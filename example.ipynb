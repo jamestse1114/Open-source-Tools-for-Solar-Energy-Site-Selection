{
 "cells": [
  {
   "cell_type": "code",
   "execution_count": 2,
   "id": "185612ba-c936-4fc5-af46-2d63950c02b4",
   "metadata": {
    "tags": []
   },
   "outputs": [],
   "source": [
    "import gismcda\n",
    "from gismcda import GisMcda"
   ]
  },
  {
   "cell_type": "code",
   "execution_count": 3,
   "id": "2debe617-ac08-4ed2-a248-3d45d21190e6",
   "metadata": {},
   "outputs": [],
   "source": [
    "# Load criteria layers and study area\n",
    "hk_wind = GisMcda(\"hk_wind_turbine_site_selection_case_study/criteria_layers\",\n",
    "                \"hk_wind_turbine_site_selection_case_study/study_area/study_area_without_constraints.shp\")"
   ]
  },
  {
   "cell_type": "code",
   "execution_count": 4,
   "id": "8d98b67c",
   "metadata": {},
   "outputs": [
    {
     "name": "stdout",
     "output_type": "stream",
     "text": [
      "Range of elevation.tif: 1.0 to 5.0\n",
      "Range of river.tif: 0 to 5\n",
      "Range of roughness.tif: 2.0 to 5.0\n",
      "Range of settlements.tif: 0 to 5\n",
      "Range of slope.tif: 0.0 to 4.0\n",
      "Range of wind_speed.tif: 1.0 to 5.0\n",
      "<open DatasetReader name='hk_wind_turbine_site_selection_case_study/criteria_layers\\elevation.tif' mode='r'>\n",
      "(1363, 1958)\n",
      "Range: 1.0 to 5.0\n",
      "<open DatasetReader name='hk_wind_turbine_site_selection_case_study/criteria_layers\\river.tif' mode='r'>\n",
      "(1926, 2628)\n",
      "Range: 0 to 5\n",
      "<open DatasetReader name='hk_wind_turbine_site_selection_case_study/criteria_layers\\roughness.tif' mode='r'>\n",
      "(1363, 1958)\n",
      "Range: 2.0 to 5.0\n",
      "<open DatasetReader name='hk_wind_turbine_site_selection_case_study/criteria_layers\\settlements.tif' mode='r'>\n",
      "(1921, 2607)\n",
      "Range: 0 to 5\n",
      "<open DatasetReader name='hk_wind_turbine_site_selection_case_study/criteria_layers\\slope.tif' mode='r'>\n",
      "(1363, 1958)\n",
      "Range: 0.0 to 4.0\n",
      "<open DatasetReader name='hk_wind_turbine_site_selection_case_study/criteria_layers\\wind_speed.tif' mode='r'>\n",
      "(1363, 1958)\n",
      "Range: 1.0 to 5.0\n",
      "<open DatasetReader name='hk_wind_turbine_site_selection_case_study/clipped_criteria_layers\\clipped_elevation.tif' mode='r'>\n",
      "(1355, 1942)\n",
      "Range: 0.0 to 5.0\n",
      "<open DatasetReader name='hk_wind_turbine_site_selection_case_study/clipped_criteria_layers\\clipped_river.tif' mode='r'>\n",
      "(1355, 1942)\n",
      "Range: 0 to 5\n",
      "<open DatasetReader name='hk_wind_turbine_site_selection_case_study/clipped_criteria_layers\\clipped_roughness.tif' mode='r'>\n",
      "(1355, 1942)\n",
      "Range: 0.0 to 5.0\n",
      "<open DatasetReader name='hk_wind_turbine_site_selection_case_study/clipped_criteria_layers\\clipped_settlements.tif' mode='r'>\n",
      "(1355, 1942)\n",
      "Range: 0 to 5\n",
      "<open DatasetReader name='hk_wind_turbine_site_selection_case_study/clipped_criteria_layers\\clipped_slope.tif' mode='r'>\n",
      "(1355, 1942)\n",
      "Range: 0.0 to 4.0\n",
      "<open DatasetReader name='hk_wind_turbine_site_selection_case_study/clipped_criteria_layers\\clipped_wind_speed.tif' mode='r'>\n",
      "(1355, 1942)\n",
      "Range: 0.0 to 5.0\n"
     ]
    }
   ],
   "source": [
    "# Transforma, clip and align raster\n",
    "hk_wind.check_raster()\n",
    "hk_wind.transform_raster()\n",
    "\n",
    "# Check dimensions for the raster\n",
    "gismcda.check_raster(\"hk_wind_turbine_site_selection_case_study/criteria_layers\")\n",
    "gismcda.check_raster(\"hk_wind_turbine_site_selection_case_study/clipped_criteria_layers\")"
   ]
  },
  {
   "cell_type": "code",
   "execution_count": 5,
   "id": "9bde9adc",
   "metadata": {},
   "outputs": [
    {
     "name": "stdout",
     "output_type": "stream",
     "text": [
      "\n",
      "The following is ahp -----------------------------------------------------------------------\n",
      "Please provide the value representing the importance of each criterion:\n"
     ]
    },
    {
     "ename": "ValueError",
     "evalue": "could not convert string to float: ''",
     "output_type": "error",
     "traceback": [
      "\u001b[1;31m---------------------------------------------------------------------------\u001b[0m",
      "\u001b[1;31mValueError\u001b[0m                                Traceback (most recent call last)",
      "Cell \u001b[1;32mIn[5], line 2\u001b[0m\n\u001b[0;32m      1\u001b[0m \u001b[39m# ahp weights\u001b[39;00m\n\u001b[1;32m----> 2\u001b[0m ahp_criteria_weights, ahp_criteria_direction \u001b[39m=\u001b[39m hk_wind\u001b[39m.\u001b[39;49mahp()\n\u001b[0;32m      4\u001b[0m result \u001b[39m=\u001b[39m hk_wind\u001b[39m.\u001b[39mweighted_sum()\n\u001b[0;32m      5\u001b[0m ahp_weighted_sum, reclass_ahp_weighted_sum \u001b[39m=\u001b[39m result\n",
      "File \u001b[1;32mc:\\Users\\james\\OneDrive - University College London\\CEGE0049 Research Project\\Python-based-Open-source-Tools-in-MCDA-for-Renewable-Energy-Site-Selection\\gismcda.py:317\u001b[0m, in \u001b[0;36mGisMcda.ahp\u001b[1;34m(self)\u001b[0m\n\u001b[0;32m    315\u001b[0m \u001b[39m# Save the criteria importance and criteria direction from user's input\u001b[39;00m\n\u001b[0;32m    316\u001b[0m \u001b[39mfor\u001b[39;00m k, raster_file \u001b[39min\u001b[39;00m \u001b[39menumerate\u001b[39m(\u001b[39mself\u001b[39m\u001b[39m.\u001b[39mraster\u001b[39m.\u001b[39mkeys()):\n\u001b[1;32m--> 317\u001b[0m     importance \u001b[39m=\u001b[39m \u001b[39mfloat\u001b[39;49m(\u001b[39minput\u001b[39;49m(\u001b[39mf\u001b[39;49m\u001b[39m\"\u001b[39;49m\u001b[39mImportance value for \u001b[39;49m\u001b[39m'\u001b[39;49m\u001b[39m{\u001b[39;49;00mraster_file\u001b[39m}\u001b[39;49;00m\u001b[39m'\u001b[39;49m\u001b[39m: \u001b[39;49m\u001b[39m\"\u001b[39;49m))\n\u001b[0;32m    318\u001b[0m     criteria_importance[raster_file] \u001b[39m=\u001b[39m importance\n\u001b[0;32m    319\u001b[0m     direction \u001b[39m=\u001b[39m \u001b[39minput\u001b[39m(\u001b[39mf\u001b[39m\u001b[39m\"\u001b[39m\u001b[39mIs \u001b[39m\u001b[39m'\u001b[39m\u001b[39m{\u001b[39;00mraster_file\u001b[39m}\u001b[39;00m\u001b[39m'\u001b[39m\u001b[39m a maximization criterion? (yes/no): \u001b[39m\u001b[39m\"\u001b[39m)\u001b[39m.\u001b[39mstrip()\u001b[39m.\u001b[39mlower()\n",
      "\u001b[1;31mValueError\u001b[0m: could not convert string to float: ''"
     ]
    }
   ],
   "source": [
    "# ahp weights\n",
    "ahp_criteria_weights, ahp_criteria_direction = hk_wind.ahp()\n",
    "\n",
    "result = hk_wind.weighted_sum()\n",
    "ahp_weighted_sum, reclass_ahp_weighted_sum = result\n",
    "\n",
    "result = hk_wind.topsis()\n",
    "ahp_topsis, reclass_ahp_topsis = result"
   ]
  },
  {
   "cell_type": "code",
   "execution_count": null,
   "id": "8532ca85",
   "metadata": {},
   "outputs": [
    {
     "name": "stdout",
     "output_type": "stream",
     "text": [
      "\n",
      "The following is fahp -----------------------------------------------------------------------\n",
      "Please provide three values representing the importance of each criterion:\n",
      "\n",
      "Fuzzy Weights:\n",
      "clipped_elevation.tif: [0.045 0.086 0.193]\n",
      "clipped_river.tif: [0.156 0.381 0.86 ]\n",
      "clipped_roughness.tif: [0.041 0.067 0.138]\n",
      "clipped_settlements.tif: [0.156 0.381 0.86 ]\n",
      "clipped_slope.tif: [0.031 0.048 0.083]\n",
      "clipped_wind_speed.tif: [0.025 0.038 0.068]\n",
      "\n",
      "Crisp Weights:\n",
      "clipped_elevation.tif: 0.108\n",
      "clipped_river.tif: 0.466\n",
      "clipped_roughness.tif: 0.082\n",
      "clipped_settlements.tif: 0.466\n",
      "clipped_slope.tif: 0.054\n",
      "clipped_wind_speed.tif: 0.044\n",
      "\n",
      "Normalized Weights:\n",
      "clipped_elevation.tif: 0.088\n",
      "clipped_river.tif: 0.382\n",
      "clipped_roughness.tif: 0.067\n",
      "clipped_settlements.tif: 0.382\n",
      "clipped_slope.tif: 0.044\n",
      "clipped_wind_speed.tif: 0.036\n",
      "\n",
      "Consistency Ratio (RC): -0.2556151550980874\n",
      "The solution is consistent (RC <= 0.10)\n",
      "\n",
      "The following is Fuzzy TOPSIS --------------------------------------------------------------------\n",
      "Raster: clipped_elevation.tif, Min Value: 0.0, Max Value: 5.0\n",
      "Raster: clipped_river.tif, Min Value: 0.0, Max Value: 5.0\n",
      "Raster: clipped_roughness.tif, Min Value: 0.0, Max Value: 5.0\n",
      "Raster: clipped_settlements.tif, Min Value: 0.0, Max Value: 5.0\n",
      "Raster: clipped_slope.tif, Min Value: 0.0, Max Value: 4.0\n",
      "Raster: clipped_wind_speed.tif, Min Value: 0.0, Max Value: 5.0\n",
      "\n",
      "The following is Fuzzy EDAS --------------------------------------------------------------------\n",
      "Raster: clipped_elevation.tif, Min Value: 0.0, Max Value: 5.0\n",
      "Raster: clipped_river.tif, Min Value: 0.0, Max Value: 5.0\n",
      "Raster: clipped_roughness.tif, Min Value: 0.0, Max Value: 5.0\n",
      "Raster: clipped_settlements.tif, Min Value: 0.0, Max Value: 5.0\n",
      "Raster: clipped_slope.tif, Min Value: 0.0, Max Value: 4.0\n",
      "Raster: clipped_wind_speed.tif, Min Value: 0.0, Max Value: 5.0\n"
     ]
    }
   ],
   "source": [
    "# fahp weights\n",
    "fahp_criteria_direction, fahp_criteria_weights, fahp_range_weights = hk_wind.fahp()\n",
    "\n",
    "result = hk_wind.ftopsis()\n",
    "fahp_ftopsis, reclass_fahp_ftopsis = result\n",
    "\n",
    "result = hk_wind.fedas()\n",
    "fahp_fedas, reclass_fahp_fedas = result"
   ]
  },
  {
   "cell_type": "code",
   "execution_count": null,
   "id": "20b14e3b",
   "metadata": {},
   "outputs": [
    {
     "name": "stdout",
     "output_type": "stream",
     "text": [
      "\n",
      "Range (Fuzzy) Weights:\n",
      "{'clipped_roughness.tif': (0.016959513624189484, 0.017141078451040508, 0.017322643277891535), 'clipped_wind_speed.tif': (0.8100160781107295, 0.8101976429375806, 0.8103792077644315), 'clipped_elevation.tif': (0.00528403094721544, 0.005465595774066466, 0.005647160600917491), 'clipped_river.tif': (0.0010606984465202586, 0.001242263273371284, 0.0014238281002223092), 'clipped_settlements.tif': (0.004390133666165688, 0.004571698493016713, 0.004753263319867739), 'clipped_slope.tif': (0.16192641555147766, 0.1621079803783287, 0.1622895452051797)}\n",
      "\n",
      "Criteria Weights:\n",
      "{'clipped_roughness.tif': 0.017141078451040508, 'clipped_wind_speed.tif': 0.8101976429375806, 'clipped_elevation.tif': 0.005465595774066466, 'clipped_river.tif': 0.001242263273371284, 'clipped_settlements.tif': 0.004571698493016713, 'clipped_slope.tif': 0.1621079803783287}\n",
      "\n",
      "The following is VIKOR --------------------------------------------------------------------\n",
      "Raster: clipped_elevation.tif, Min Value: 0.0, Max Value: 5.0\n",
      "Raster: clipped_river.tif, Min Value: 0.0, Max Value: 5.0\n",
      "Raster: clipped_roughness.tif, Min Value: 0.0, Max Value: 5.0\n",
      "Raster: clipped_settlements.tif, Min Value: 0.0, Max Value: 5.0\n",
      "Raster: clipped_slope.tif, Min Value: 0.0, Max Value: 4.0\n",
      "Raster: clipped_wind_speed.tif, Min Value: 0.0, Max Value: 5.0\n"
     ]
    }
   ],
   "source": [
    "# dempster-shafer weights\n",
    "experts_opinion = [\n",
    "    {'clipped_elevation.tif': 0.11, 'clipped_river.tif': 0.085, 'clipped_roughness.tif': 0.15, 'clipped_settlements.tif': 0.075, 'clipped_slope.tif': 0.23, 'clipped_wind_speed.tif': 0.35},\n",
    "    {'clipped_elevation.tif': 0.09, 'clipped_river.tif': 0.04, 'clipped_roughness.tif': 0.14, 'clipped_settlements.tif': 0.09, 'clipped_slope.tif': 0.26, 'clipped_wind_speed.tif': 0.38},\n",
    "    {'clipped_elevation.tif': 0.08, 'clipped_river.tif': 0.03, 'clipped_roughness.tif': 0.13, 'clipped_settlements.tif': 0.08, 'clipped_slope.tif': 0.27, 'clipped_wind_speed.tif': 0.41},\n",
    "    {'clipped_elevation.tif': 0.07, 'clipped_river.tif': 0.02, 'clipped_roughness.tif': 0.12, 'clipped_settlements.tif': 0.07, 'clipped_slope.tif': 0.28, 'clipped_wind_speed.tif': 0.44},\n",
    "    {'clipped_elevation.tif': 0.06, 'clipped_river.tif': 0.01, 'clipped_roughness.tif': 0.11, 'clipped_settlements.tif': 0.06, 'clipped_slope.tif': 0.29, 'clipped_wind_speed.tif': 0.47}\n",
    "]\n",
    "dst_range_weights, dst_criteria_weights = hk_wind.dst(experts_opinion)\n",
    "\n",
    "result = hk_wind.vikor()\n",
    "dst_vikor, reclass_dst_vikor = result"
   ]
  },
  {
   "cell_type": "code",
   "execution_count": null,
   "id": "9e74f751",
   "metadata": {},
   "outputs": [
    {
     "ename": "NameError",
     "evalue": "name 'reclass_ahp_weighted_sum' is not defined",
     "output_type": "error",
     "traceback": [
      "\u001b[1;31m---------------------------------------------------------------------------\u001b[0m",
      "\u001b[1;31mNameError\u001b[0m                                 Traceback (most recent call last)",
      "Cell \u001b[1;32mIn[3], line 1\u001b[0m\n\u001b[1;32m----> 1\u001b[0m gismcda\u001b[39m.\u001b[39mreclass_correlation_matrix({\u001b[39m\"\u001b[39m\u001b[39mreclass_ahp_weighted_sum\u001b[39m\u001b[39m\"\u001b[39m: reclass_ahp_weighted_sum, \n\u001b[0;32m      2\u001b[0m                             \u001b[39m\"\u001b[39m\u001b[39mreclass_ahp_topsis\u001b[39m\u001b[39m\"\u001b[39m: reclass_ahp_topsis,\n\u001b[0;32m      3\u001b[0m                             \u001b[39m\"\u001b[39m\u001b[39mreclass_fahp_ftopsis\u001b[39m\u001b[39m\"\u001b[39m: reclass_fahp_ftopsis, \n\u001b[0;32m      4\u001b[0m                             \u001b[39m\"\u001b[39m\u001b[39mreclass_fahp_fedas\u001b[39m\u001b[39m\"\u001b[39m: reclass_fahp_fedas,  \n\u001b[0;32m      5\u001b[0m                             \u001b[39m\"\u001b[39m\u001b[39mreclass_dst_vikor\u001b[39m\u001b[39m\"\u001b[39m: reclass_dst_vikor})\n",
      "\u001b[1;31mNameError\u001b[0m: name 'reclass_ahp_weighted_sum' is not defined"
     ]
    }
   ],
   "source": [
    "gismcda.correlation_matrix({\"reclass_ahp_weighted_sum\": reclass_ahp_weighted_sum, \n",
    "                            \"reclass_ahp_topsis\": reclass_ahp_topsis,\n",
    "                            \"reclass_fahp_ftopsis\": reclass_fahp_ftopsis, \n",
    "                            \"reclass_fahp_fedas\": reclass_fahp_fedas,  \n",
    "                            \"reclass_dst_vikor\": reclass_dst_vikor})"
   ]
  },
  {
   "cell_type": "code",
   "execution_count": null,
   "id": "3e5d585e",
   "metadata": {},
   "outputs": [
    {
     "ename": "UnboundLocalError",
     "evalue": "cannot access local variable 'mask' where it is not associated with a value",
     "output_type": "error",
     "traceback": [
      "\u001b[1;31m---------------------------------------------------------------------------\u001b[0m",
      "\u001b[1;31mUnboundLocalError\u001b[0m                         Traceback (most recent call last)",
      "Cell \u001b[1;32mIn[1], line 4\u001b[0m\n\u001b[0;32m      2\u001b[0m \u001b[39mimport\u001b[39;00m \u001b[39mgismcda\u001b[39;00m\n\u001b[0;32m      3\u001b[0m \u001b[39mfrom\u001b[39;00m \u001b[39mgismcda\u001b[39;00m \u001b[39mimport\u001b[39;00m GisMcda\n\u001b[1;32m----> 4\u001b[0m gismcda\u001b[39m.\u001b[39;49mreclass_common_plot(\u001b[39m\"\u001b[39;49m\u001b[39mreclass_suitability\u001b[39;49m\u001b[39m\"\u001b[39;49m, \n\u001b[0;32m      5\u001b[0m                             base_layer\u001b[39m=\u001b[39;49m\u001b[39m\"\u001b[39;49m\u001b[39mhk_wind_turbine_site_selection_case_study/study_area/study_area_without_constraints.shp\u001b[39;49m\u001b[39m\"\u001b[39;49m, \n\u001b[0;32m      6\u001b[0m                             same_value\u001b[39m=\u001b[39;49m\u001b[39m5\u001b[39;49m)\n",
      "File \u001b[1;32mc:\\Users\\james\\OneDrive - University College London\\CEGE0049 Research Project\\Python-based-Open-source-Tools-in-MCDA-for-Renewable-Energy-Site-Selection\\gismcda.py:1032\u001b[0m, in \u001b[0;36mreclass_common_plot\u001b[1;34m(folder_path, base_layer, same_value)\u001b[0m\n\u001b[0;32m   1029\u001b[0m \u001b[39mwith\u001b[39;00m rasterio\u001b[39m.\u001b[39mopen(os\u001b[39m.\u001b[39mpath\u001b[39m.\u001b[39mjoin(folder_path, raster_file)) \u001b[39mas\u001b[39;00m src:\n\u001b[0;32m   1030\u001b[0m     \u001b[39m# Clip the raster to the base shapefile\u001b[39;00m\n\u001b[0;32m   1031\u001b[0m     \u001b[39mif\u001b[39;00m base_geom \u001b[39mis\u001b[39;00m \u001b[39mnot\u001b[39;00m \u001b[39mNone\u001b[39;00m:\n\u001b[1;32m-> 1032\u001b[0m         out_image, _ \u001b[39m=\u001b[39m mask(src, base_geom, crop\u001b[39m=\u001b[39m\u001b[39mTrue\u001b[39;00m)\n\u001b[0;32m   1033\u001b[0m         data \u001b[39m=\u001b[39m out_image[\u001b[39m0\u001b[39m]\n\u001b[0;32m   1034\u001b[0m     \u001b[39melse\u001b[39;00m:\n",
      "\u001b[1;31mUnboundLocalError\u001b[0m: cannot access local variable 'mask' where it is not associated with a value"
     ]
    }
   ],
   "source": [
    "# gismcda.reclass_suitability(num_of_class, raster, study_area_shp=None)\n",
    "import gismcda\n",
    "from gismcda import GisMcda\n",
    "gismcda.reclass_common_plot(\"reclass_suitability\", \n",
    "                            base_layer=\"hk_wind_turbine_site_selection_case_study/study_area/study_area_without_constraints.shp\", \n",
    "                            same_value=5)"
   ]
  }
 ],
 "metadata": {
  "kernelspec": {
   "display_name": "Python 3 (ipykernel)",
   "language": "python",
   "name": "python3"
  },
  "language_info": {
   "codemirror_mode": {
    "name": "ipython",
    "version": 3
   },
   "file_extension": ".py",
   "mimetype": "text/x-python",
   "name": "python",
   "nbconvert_exporter": "python",
   "pygments_lexer": "ipython3",
   "version": "3.11.0"
  }
 },
 "nbformat": 4,
 "nbformat_minor": 5
}
